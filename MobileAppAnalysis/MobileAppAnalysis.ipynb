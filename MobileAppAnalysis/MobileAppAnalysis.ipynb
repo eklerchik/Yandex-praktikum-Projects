{
 "cells": [
  {
   "cell_type": "markdown",
   "metadata": {},
   "source": [
    "### Анализ пользовательского поведения в мобильном приложении"
   ]
  },
  {
   "cell_type": "markdown",
   "metadata": {},
   "source": [
    "Цель:\n",
    "* По данным использования мобильного приложения для продажи продуктов питания нужно проанализировать воронку продаж, а также оценить результаты A/A/B-тестирования.\n",
    "\n",
    "---"
   ]
  },
  {
   "cell_type": "markdown",
   "metadata": {},
   "source": [
    "**Описание данных**\n",
    "* EventName — название события;\n",
    "* DeviceIDHash — уникальный идентификатор пользователя;\n",
    "* EventTimestamp — время события;\n",
    "* ExpId — номер эксперимента: 246 и 247 — контрольные группы, а 248 — экспериментальная.\n",
    "\n",
    "---"
   ]
  },
  {
   "cell_type": "markdown",
   "metadata": {},
   "source": [
    "**Описание проекта**"
   ]
  },
  {
   "cell_type": "markdown",
   "metadata": {},
   "source": [
    "1. [Открытие данных](#start)\n",
    "2. [Предобработка данных](#preprocessing)\n",
    "    * [Обработка пропущенных значений](#null)\n",
    "    * [Обработка дубликатов](#duplicates)\n",
    "    * [Изменение типов данных](#types)\n",
    "    * [Добавление новых столбцов](#newсolumn)\n",
    "3. [Изучение и проверка данных](#check)\n",
    "    * [Количество событий в логе](#numberofevents)\n",
    "    * [Количество пользователей](#numberofusers)\n",
    "    * [Количество в среднем событий на пользователя](#avgeventsperuser)\n",
    "    * [Актуальные данные](#actuality)\n",
    "    * [Потерянные данные](#lost)\n",
    "3. [Изучение воронки событий](#funnel)\n",
    "    * [Квалификация событий](#eventsisin)\n",
    "    * [Количество пользователей, которые совершали каждое из этих событий](#usersperevents)\n",
    "    * [Порядок событий](#eventsteps)\n",
    "    * [Воронка событий](#funnelpercent)\n",
    "4. [Анализ результатов эксперемента](#AABtests)\n",
    "    * [Количество пользователей в экспериментальных группах](#numberofuserstest)\n",
    "    * [Статистическая значимость в долях конверсии 246 и 247](#statsdifference)\n",
    "    * [Статистическая значимость контрольных групп и экспериентальной](#statABdiff)\n",
    "5. [Вывод](#conclusion)"
   ]
  },
  {
   "cell_type": "markdown",
   "metadata": {},
   "source": [
    "<a id='start'></a>\n",
    "### Шаг 1.Изучение файлов с данными и общей информацией по ним"
   ]
  },
  {
   "cell_type": "code",
   "execution_count": 75,
   "metadata": {},
   "outputs": [],
   "source": [
    "import pandas as pd\n",
    "import numpy as np\n",
    "import seaborn as sns\n",
    "import plotly.express as px\n",
    "from plotly import graph_objects as go\n",
    "import matplotlib.pyplot as plt\n",
    "from scipy import stats as st\n",
    "\n",
    "\n",
    "import warnings\n",
    "import math as mth\n",
    "import ipywidgets as widgets\n",
    "\n",
    "import plotly.io as pio\n",
    "pio.renderers\n",
    "\n",
    "from IPython.display import Image\n"
   ]
  },
  {
   "cell_type": "code",
   "execution_count": 2,
   "metadata": {},
   "outputs": [],
   "source": [
    "path = ('/Users/valeriyaniskorodova/Y.Praktikum/Module 2/final sprint/')\n",
    "#path = ('/datasets/')"
   ]
  },
  {
   "cell_type": "code",
   "execution_count": 3,
   "metadata": {},
   "outputs": [],
   "source": [
    "logs_data = pd.read_csv(path +'logs_exp.csv', sep='\\t')"
   ]
  },
  {
   "cell_type": "code",
   "execution_count": 4,
   "metadata": {},
   "outputs": [
    {
     "data": {
      "text/html": [
       "<div>\n",
       "<style scoped>\n",
       "    .dataframe tbody tr th:only-of-type {\n",
       "        vertical-align: middle;\n",
       "    }\n",
       "\n",
       "    .dataframe tbody tr th {\n",
       "        vertical-align: top;\n",
       "    }\n",
       "\n",
       "    .dataframe thead th {\n",
       "        text-align: right;\n",
       "    }\n",
       "</style>\n",
       "<table border=\"1\" class=\"dataframe\">\n",
       "  <thead>\n",
       "    <tr style=\"text-align: right;\">\n",
       "      <th></th>\n",
       "      <th>EventName</th>\n",
       "      <th>DeviceIDHash</th>\n",
       "      <th>EventTimestamp</th>\n",
       "      <th>ExpId</th>\n",
       "    </tr>\n",
       "  </thead>\n",
       "  <tbody>\n",
       "    <tr>\n",
       "      <th>0</th>\n",
       "      <td>MainScreenAppear</td>\n",
       "      <td>4575588528974610257</td>\n",
       "      <td>1564029816</td>\n",
       "      <td>246</td>\n",
       "    </tr>\n",
       "    <tr>\n",
       "      <th>1</th>\n",
       "      <td>MainScreenAppear</td>\n",
       "      <td>7416695313311560658</td>\n",
       "      <td>1564053102</td>\n",
       "      <td>246</td>\n",
       "    </tr>\n",
       "    <tr>\n",
       "      <th>2</th>\n",
       "      <td>PaymentScreenSuccessful</td>\n",
       "      <td>3518123091307005509</td>\n",
       "      <td>1564054127</td>\n",
       "      <td>248</td>\n",
       "    </tr>\n",
       "    <tr>\n",
       "      <th>3</th>\n",
       "      <td>CartScreenAppear</td>\n",
       "      <td>3518123091307005509</td>\n",
       "      <td>1564054127</td>\n",
       "      <td>248</td>\n",
       "    </tr>\n",
       "    <tr>\n",
       "      <th>4</th>\n",
       "      <td>PaymentScreenSuccessful</td>\n",
       "      <td>6217807653094995999</td>\n",
       "      <td>1564055322</td>\n",
       "      <td>248</td>\n",
       "    </tr>\n",
       "    <tr>\n",
       "      <th>...</th>\n",
       "      <td>...</td>\n",
       "      <td>...</td>\n",
       "      <td>...</td>\n",
       "      <td>...</td>\n",
       "    </tr>\n",
       "    <tr>\n",
       "      <th>244121</th>\n",
       "      <td>MainScreenAppear</td>\n",
       "      <td>4599628364049201812</td>\n",
       "      <td>1565212345</td>\n",
       "      <td>247</td>\n",
       "    </tr>\n",
       "    <tr>\n",
       "      <th>244122</th>\n",
       "      <td>MainScreenAppear</td>\n",
       "      <td>5849806612437486590</td>\n",
       "      <td>1565212439</td>\n",
       "      <td>246</td>\n",
       "    </tr>\n",
       "    <tr>\n",
       "      <th>244123</th>\n",
       "      <td>MainScreenAppear</td>\n",
       "      <td>5746969938801999050</td>\n",
       "      <td>1565212483</td>\n",
       "      <td>246</td>\n",
       "    </tr>\n",
       "    <tr>\n",
       "      <th>244124</th>\n",
       "      <td>MainScreenAppear</td>\n",
       "      <td>5746969938801999050</td>\n",
       "      <td>1565212498</td>\n",
       "      <td>246</td>\n",
       "    </tr>\n",
       "    <tr>\n",
       "      <th>244125</th>\n",
       "      <td>OffersScreenAppear</td>\n",
       "      <td>5746969938801999050</td>\n",
       "      <td>1565212517</td>\n",
       "      <td>246</td>\n",
       "    </tr>\n",
       "  </tbody>\n",
       "</table>\n",
       "<p>244126 rows × 4 columns</p>\n",
       "</div>"
      ],
      "text/plain": [
       "                      EventName         DeviceIDHash  EventTimestamp  ExpId\n",
       "0              MainScreenAppear  4575588528974610257      1564029816    246\n",
       "1              MainScreenAppear  7416695313311560658      1564053102    246\n",
       "2       PaymentScreenSuccessful  3518123091307005509      1564054127    248\n",
       "3              CartScreenAppear  3518123091307005509      1564054127    248\n",
       "4       PaymentScreenSuccessful  6217807653094995999      1564055322    248\n",
       "...                         ...                  ...             ...    ...\n",
       "244121         MainScreenAppear  4599628364049201812      1565212345    247\n",
       "244122         MainScreenAppear  5849806612437486590      1565212439    246\n",
       "244123         MainScreenAppear  5746969938801999050      1565212483    246\n",
       "244124         MainScreenAppear  5746969938801999050      1565212498    246\n",
       "244125       OffersScreenAppear  5746969938801999050      1565212517    246\n",
       "\n",
       "[244126 rows x 4 columns]"
      ]
     },
     "execution_count": 4,
     "metadata": {},
     "output_type": "execute_result"
    }
   ],
   "source": [
    "logs_data"
   ]
  },
  {
   "cell_type": "code",
   "execution_count": 5,
   "metadata": {},
   "outputs": [],
   "source": [
    "logs_data = logs_data.rename(columns={'EventName':'event_name', 'DeviceIDHash':'user_id',\\\n",
    "                  'EventTimestamp':'event_timestamp', 'ExpId':'exp_id'})"
   ]
  },
  {
   "cell_type": "code",
   "execution_count": 6,
   "metadata": {},
   "outputs": [
    {
     "name": "stdout",
     "output_type": "stream",
     "text": [
      "<class 'pandas.core.frame.DataFrame'>\n",
      "RangeIndex: 244126 entries, 0 to 244125\n",
      "Data columns (total 4 columns):\n",
      " #   Column           Non-Null Count   Dtype \n",
      "---  ------           --------------   ----- \n",
      " 0   event_name       244126 non-null  object\n",
      " 1   user_id          244126 non-null  int64 \n",
      " 2   event_timestamp  244126 non-null  int64 \n",
      " 3   exp_id           244126 non-null  int64 \n",
      "dtypes: int64(3), object(1)\n",
      "memory usage: 7.5+ MB\n"
     ]
    }
   ],
   "source": [
    "logs_data.info()"
   ]
  },
  {
   "cell_type": "markdown",
   "metadata": {},
   "source": [
    "На первый взгляд пропущенных значений не обнаружено\n",
    "* Следует заменить столбцы с информацией об id на тип str\n",
    "* Привести столбец с данными о времени события к типа datetime."
   ]
  },
  {
   "cell_type": "markdown",
   "metadata": {},
   "source": [
    "<a id='preprocessing'></a>\n",
    "### Шаг 2.Предобработка данных"
   ]
  },
  {
   "cell_type": "markdown",
   "metadata": {},
   "source": [
    "<a id='null'></a>\n",
    "Пропущенных значений не обнаружено."
   ]
  },
  {
   "cell_type": "markdown",
   "metadata": {},
   "source": [
    "<a id='types'></a>\n",
    "**Изменение типов данных**"
   ]
  },
  {
   "cell_type": "code",
   "execution_count": 7,
   "metadata": {},
   "outputs": [],
   "source": [
    "type_dict = {\n",
    "    'user_id':'str',\n",
    "    'exp_id':'str'\n",
    "}\n",
    "logs_data = logs_data.astype(type_dict)"
   ]
  },
  {
   "cell_type": "code",
   "execution_count": 8,
   "metadata": {},
   "outputs": [],
   "source": [
    "logs_data['date_time'] = pd.to_datetime(logs_data['event_timestamp'], unit='s')"
   ]
  },
  {
   "cell_type": "code",
   "execution_count": 9,
   "metadata": {},
   "outputs": [
    {
     "data": {
      "text/html": [
       "<div>\n",
       "<style scoped>\n",
       "    .dataframe tbody tr th:only-of-type {\n",
       "        vertical-align: middle;\n",
       "    }\n",
       "\n",
       "    .dataframe tbody tr th {\n",
       "        vertical-align: top;\n",
       "    }\n",
       "\n",
       "    .dataframe thead th {\n",
       "        text-align: right;\n",
       "    }\n",
       "</style>\n",
       "<table border=\"1\" class=\"dataframe\">\n",
       "  <thead>\n",
       "    <tr style=\"text-align: right;\">\n",
       "      <th></th>\n",
       "      <th>event_name</th>\n",
       "      <th>user_id</th>\n",
       "      <th>event_timestamp</th>\n",
       "      <th>exp_id</th>\n",
       "      <th>date_time</th>\n",
       "    </tr>\n",
       "  </thead>\n",
       "  <tbody>\n",
       "    <tr>\n",
       "      <th>0</th>\n",
       "      <td>MainScreenAppear</td>\n",
       "      <td>4575588528974610257</td>\n",
       "      <td>1564029816</td>\n",
       "      <td>246</td>\n",
       "      <td>2019-07-25 04:43:36</td>\n",
       "    </tr>\n",
       "    <tr>\n",
       "      <th>1</th>\n",
       "      <td>MainScreenAppear</td>\n",
       "      <td>7416695313311560658</td>\n",
       "      <td>1564053102</td>\n",
       "      <td>246</td>\n",
       "      <td>2019-07-25 11:11:42</td>\n",
       "    </tr>\n",
       "    <tr>\n",
       "      <th>2</th>\n",
       "      <td>PaymentScreenSuccessful</td>\n",
       "      <td>3518123091307005509</td>\n",
       "      <td>1564054127</td>\n",
       "      <td>248</td>\n",
       "      <td>2019-07-25 11:28:47</td>\n",
       "    </tr>\n",
       "    <tr>\n",
       "      <th>3</th>\n",
       "      <td>CartScreenAppear</td>\n",
       "      <td>3518123091307005509</td>\n",
       "      <td>1564054127</td>\n",
       "      <td>248</td>\n",
       "      <td>2019-07-25 11:28:47</td>\n",
       "    </tr>\n",
       "    <tr>\n",
       "      <th>4</th>\n",
       "      <td>PaymentScreenSuccessful</td>\n",
       "      <td>6217807653094995999</td>\n",
       "      <td>1564055322</td>\n",
       "      <td>248</td>\n",
       "      <td>2019-07-25 11:48:42</td>\n",
       "    </tr>\n",
       "    <tr>\n",
       "      <th>...</th>\n",
       "      <td>...</td>\n",
       "      <td>...</td>\n",
       "      <td>...</td>\n",
       "      <td>...</td>\n",
       "      <td>...</td>\n",
       "    </tr>\n",
       "    <tr>\n",
       "      <th>244121</th>\n",
       "      <td>MainScreenAppear</td>\n",
       "      <td>4599628364049201812</td>\n",
       "      <td>1565212345</td>\n",
       "      <td>247</td>\n",
       "      <td>2019-08-07 21:12:25</td>\n",
       "    </tr>\n",
       "    <tr>\n",
       "      <th>244122</th>\n",
       "      <td>MainScreenAppear</td>\n",
       "      <td>5849806612437486590</td>\n",
       "      <td>1565212439</td>\n",
       "      <td>246</td>\n",
       "      <td>2019-08-07 21:13:59</td>\n",
       "    </tr>\n",
       "    <tr>\n",
       "      <th>244123</th>\n",
       "      <td>MainScreenAppear</td>\n",
       "      <td>5746969938801999050</td>\n",
       "      <td>1565212483</td>\n",
       "      <td>246</td>\n",
       "      <td>2019-08-07 21:14:43</td>\n",
       "    </tr>\n",
       "    <tr>\n",
       "      <th>244124</th>\n",
       "      <td>MainScreenAppear</td>\n",
       "      <td>5746969938801999050</td>\n",
       "      <td>1565212498</td>\n",
       "      <td>246</td>\n",
       "      <td>2019-08-07 21:14:58</td>\n",
       "    </tr>\n",
       "    <tr>\n",
       "      <th>244125</th>\n",
       "      <td>OffersScreenAppear</td>\n",
       "      <td>5746969938801999050</td>\n",
       "      <td>1565212517</td>\n",
       "      <td>246</td>\n",
       "      <td>2019-08-07 21:15:17</td>\n",
       "    </tr>\n",
       "  </tbody>\n",
       "</table>\n",
       "<p>244126 rows × 5 columns</p>\n",
       "</div>"
      ],
      "text/plain": [
       "                     event_name              user_id  event_timestamp exp_id  \\\n",
       "0              MainScreenAppear  4575588528974610257       1564029816    246   \n",
       "1              MainScreenAppear  7416695313311560658       1564053102    246   \n",
       "2       PaymentScreenSuccessful  3518123091307005509       1564054127    248   \n",
       "3              CartScreenAppear  3518123091307005509       1564054127    248   \n",
       "4       PaymentScreenSuccessful  6217807653094995999       1564055322    248   \n",
       "...                         ...                  ...              ...    ...   \n",
       "244121         MainScreenAppear  4599628364049201812       1565212345    247   \n",
       "244122         MainScreenAppear  5849806612437486590       1565212439    246   \n",
       "244123         MainScreenAppear  5746969938801999050       1565212483    246   \n",
       "244124         MainScreenAppear  5746969938801999050       1565212498    246   \n",
       "244125       OffersScreenAppear  5746969938801999050       1565212517    246   \n",
       "\n",
       "                 date_time  \n",
       "0      2019-07-25 04:43:36  \n",
       "1      2019-07-25 11:11:42  \n",
       "2      2019-07-25 11:28:47  \n",
       "3      2019-07-25 11:28:47  \n",
       "4      2019-07-25 11:48:42  \n",
       "...                    ...  \n",
       "244121 2019-08-07 21:12:25  \n",
       "244122 2019-08-07 21:13:59  \n",
       "244123 2019-08-07 21:14:43  \n",
       "244124 2019-08-07 21:14:58  \n",
       "244125 2019-08-07 21:15:17  \n",
       "\n",
       "[244126 rows x 5 columns]"
      ]
     },
     "execution_count": 9,
     "metadata": {},
     "output_type": "execute_result"
    }
   ],
   "source": [
    "logs_data"
   ]
  },
  {
   "cell_type": "markdown",
   "metadata": {},
   "source": [
    "---"
   ]
  },
  {
   "cell_type": "code",
   "execution_count": 10,
   "metadata": {},
   "outputs": [
    {
     "data": {
      "text/plain": [
       "413"
      ]
     },
     "execution_count": 10,
     "metadata": {},
     "output_type": "execute_result"
    }
   ],
   "source": [
    "logs_data.duplicated().sum()"
   ]
  },
  {
   "cell_type": "markdown",
   "metadata": {},
   "source": [
    "<a id='duplicates'></a>\n",
    "В наших данных всего 413 дубликатов, это меньше 1% от всех данных, предполагаю, что такие дубликаты возникли из-за ошибок, возникщих при сборе данных о действиях на странице( задублирование действия). Удаление таких дубликатов не окажет искажения на результаты исследования.\n",
    "\n",
    "---"
   ]
  },
  {
   "cell_type": "code",
   "execution_count": 11,
   "metadata": {},
   "outputs": [],
   "source": [
    "logs_data = logs_data.drop_duplicates()"
   ]
  },
  {
   "cell_type": "code",
   "execution_count": 12,
   "metadata": {},
   "outputs": [
    {
     "data": {
      "text/html": [
       "<div>\n",
       "<style scoped>\n",
       "    .dataframe tbody tr th:only-of-type {\n",
       "        vertical-align: middle;\n",
       "    }\n",
       "\n",
       "    .dataframe tbody tr th {\n",
       "        vertical-align: top;\n",
       "    }\n",
       "\n",
       "    .dataframe thead th {\n",
       "        text-align: right;\n",
       "    }\n",
       "</style>\n",
       "<table border=\"1\" class=\"dataframe\">\n",
       "  <thead>\n",
       "    <tr style=\"text-align: right;\">\n",
       "      <th></th>\n",
       "      <th>event_name</th>\n",
       "      <th>user_id</th>\n",
       "      <th>event_timestamp</th>\n",
       "      <th>exp_id</th>\n",
       "      <th>date_time</th>\n",
       "    </tr>\n",
       "  </thead>\n",
       "  <tbody>\n",
       "    <tr>\n",
       "      <th>0</th>\n",
       "      <td>MainScreenAppear</td>\n",
       "      <td>4575588528974610257</td>\n",
       "      <td>1564029816</td>\n",
       "      <td>246</td>\n",
       "      <td>2019-07-25 04:43:36</td>\n",
       "    </tr>\n",
       "    <tr>\n",
       "      <th>1</th>\n",
       "      <td>MainScreenAppear</td>\n",
       "      <td>7416695313311560658</td>\n",
       "      <td>1564053102</td>\n",
       "      <td>246</td>\n",
       "      <td>2019-07-25 11:11:42</td>\n",
       "    </tr>\n",
       "    <tr>\n",
       "      <th>2</th>\n",
       "      <td>PaymentScreenSuccessful</td>\n",
       "      <td>3518123091307005509</td>\n",
       "      <td>1564054127</td>\n",
       "      <td>248</td>\n",
       "      <td>2019-07-25 11:28:47</td>\n",
       "    </tr>\n",
       "    <tr>\n",
       "      <th>3</th>\n",
       "      <td>CartScreenAppear</td>\n",
       "      <td>3518123091307005509</td>\n",
       "      <td>1564054127</td>\n",
       "      <td>248</td>\n",
       "      <td>2019-07-25 11:28:47</td>\n",
       "    </tr>\n",
       "    <tr>\n",
       "      <th>4</th>\n",
       "      <td>PaymentScreenSuccessful</td>\n",
       "      <td>6217807653094995999</td>\n",
       "      <td>1564055322</td>\n",
       "      <td>248</td>\n",
       "      <td>2019-07-25 11:48:42</td>\n",
       "    </tr>\n",
       "    <tr>\n",
       "      <th>...</th>\n",
       "      <td>...</td>\n",
       "      <td>...</td>\n",
       "      <td>...</td>\n",
       "      <td>...</td>\n",
       "      <td>...</td>\n",
       "    </tr>\n",
       "    <tr>\n",
       "      <th>244121</th>\n",
       "      <td>MainScreenAppear</td>\n",
       "      <td>4599628364049201812</td>\n",
       "      <td>1565212345</td>\n",
       "      <td>247</td>\n",
       "      <td>2019-08-07 21:12:25</td>\n",
       "    </tr>\n",
       "    <tr>\n",
       "      <th>244122</th>\n",
       "      <td>MainScreenAppear</td>\n",
       "      <td>5849806612437486590</td>\n",
       "      <td>1565212439</td>\n",
       "      <td>246</td>\n",
       "      <td>2019-08-07 21:13:59</td>\n",
       "    </tr>\n",
       "    <tr>\n",
       "      <th>244123</th>\n",
       "      <td>MainScreenAppear</td>\n",
       "      <td>5746969938801999050</td>\n",
       "      <td>1565212483</td>\n",
       "      <td>246</td>\n",
       "      <td>2019-08-07 21:14:43</td>\n",
       "    </tr>\n",
       "    <tr>\n",
       "      <th>244124</th>\n",
       "      <td>MainScreenAppear</td>\n",
       "      <td>5746969938801999050</td>\n",
       "      <td>1565212498</td>\n",
       "      <td>246</td>\n",
       "      <td>2019-08-07 21:14:58</td>\n",
       "    </tr>\n",
       "    <tr>\n",
       "      <th>244125</th>\n",
       "      <td>OffersScreenAppear</td>\n",
       "      <td>5746969938801999050</td>\n",
       "      <td>1565212517</td>\n",
       "      <td>246</td>\n",
       "      <td>2019-08-07 21:15:17</td>\n",
       "    </tr>\n",
       "  </tbody>\n",
       "</table>\n",
       "<p>243713 rows × 5 columns</p>\n",
       "</div>"
      ],
      "text/plain": [
       "                     event_name              user_id  event_timestamp exp_id  \\\n",
       "0              MainScreenAppear  4575588528974610257       1564029816    246   \n",
       "1              MainScreenAppear  7416695313311560658       1564053102    246   \n",
       "2       PaymentScreenSuccessful  3518123091307005509       1564054127    248   \n",
       "3              CartScreenAppear  3518123091307005509       1564054127    248   \n",
       "4       PaymentScreenSuccessful  6217807653094995999       1564055322    248   \n",
       "...                         ...                  ...              ...    ...   \n",
       "244121         MainScreenAppear  4599628364049201812       1565212345    247   \n",
       "244122         MainScreenAppear  5849806612437486590       1565212439    246   \n",
       "244123         MainScreenAppear  5746969938801999050       1565212483    246   \n",
       "244124         MainScreenAppear  5746969938801999050       1565212498    246   \n",
       "244125       OffersScreenAppear  5746969938801999050       1565212517    246   \n",
       "\n",
       "                 date_time  \n",
       "0      2019-07-25 04:43:36  \n",
       "1      2019-07-25 11:11:42  \n",
       "2      2019-07-25 11:28:47  \n",
       "3      2019-07-25 11:28:47  \n",
       "4      2019-07-25 11:48:42  \n",
       "...                    ...  \n",
       "244121 2019-08-07 21:12:25  \n",
       "244122 2019-08-07 21:13:59  \n",
       "244123 2019-08-07 21:14:43  \n",
       "244124 2019-08-07 21:14:58  \n",
       "244125 2019-08-07 21:15:17  \n",
       "\n",
       "[243713 rows x 5 columns]"
      ]
     },
     "execution_count": 12,
     "metadata": {},
     "output_type": "execute_result"
    }
   ],
   "source": [
    "logs_data"
   ]
  },
  {
   "cell_type": "code",
   "execution_count": 13,
   "metadata": {},
   "outputs": [
    {
     "name": "stdout",
     "output_type": "stream",
     "text": [
      "<class 'pandas.core.frame.DataFrame'>\n",
      "Int64Index: 243713 entries, 0 to 244125\n",
      "Data columns (total 5 columns):\n",
      " #   Column           Non-Null Count   Dtype         \n",
      "---  ------           --------------   -----         \n",
      " 0   event_name       243713 non-null  object        \n",
      " 1   user_id          243713 non-null  object        \n",
      " 2   event_timestamp  243713 non-null  int64         \n",
      " 3   exp_id           243713 non-null  object        \n",
      " 4   date_time        243713 non-null  datetime64[ns]\n",
      "dtypes: datetime64[ns](1), int64(1), object(3)\n",
      "memory usage: 11.2+ MB\n"
     ]
    }
   ],
   "source": [
    "logs_data.info()"
   ]
  },
  {
   "cell_type": "markdown",
   "metadata": {},
   "source": [
    "<a id='newсolumn'></a>\n",
    "Добавление столбец даты и времени"
   ]
  },
  {
   "cell_type": "code",
   "execution_count": 14,
   "metadata": {},
   "outputs": [],
   "source": [
    "warnings.filterwarnings('ignore')"
   ]
  },
  {
   "cell_type": "code",
   "execution_count": 15,
   "metadata": {},
   "outputs": [],
   "source": [
    "logs_data['date'] = logs_data['date_time'].astype('datetime64[D]')\n",
    "logs_data['time'] = logs_data['date_time'].dt.time"
   ]
  },
  {
   "cell_type": "code",
   "execution_count": 16,
   "metadata": {
    "scrolled": true
   },
   "outputs": [
    {
     "data": {
      "text/html": [
       "<div>\n",
       "<style scoped>\n",
       "    .dataframe tbody tr th:only-of-type {\n",
       "        vertical-align: middle;\n",
       "    }\n",
       "\n",
       "    .dataframe tbody tr th {\n",
       "        vertical-align: top;\n",
       "    }\n",
       "\n",
       "    .dataframe thead th {\n",
       "        text-align: right;\n",
       "    }\n",
       "</style>\n",
       "<table border=\"1\" class=\"dataframe\">\n",
       "  <thead>\n",
       "    <tr style=\"text-align: right;\">\n",
       "      <th></th>\n",
       "      <th>event_name</th>\n",
       "      <th>user_id</th>\n",
       "      <th>event_timestamp</th>\n",
       "      <th>exp_id</th>\n",
       "      <th>date_time</th>\n",
       "      <th>date</th>\n",
       "      <th>time</th>\n",
       "    </tr>\n",
       "  </thead>\n",
       "  <tbody>\n",
       "    <tr>\n",
       "      <th>0</th>\n",
       "      <td>MainScreenAppear</td>\n",
       "      <td>4575588528974610257</td>\n",
       "      <td>1564029816</td>\n",
       "      <td>246</td>\n",
       "      <td>2019-07-25 04:43:36</td>\n",
       "      <td>2019-07-25</td>\n",
       "      <td>04:43:36</td>\n",
       "    </tr>\n",
       "    <tr>\n",
       "      <th>1</th>\n",
       "      <td>MainScreenAppear</td>\n",
       "      <td>7416695313311560658</td>\n",
       "      <td>1564053102</td>\n",
       "      <td>246</td>\n",
       "      <td>2019-07-25 11:11:42</td>\n",
       "      <td>2019-07-25</td>\n",
       "      <td>11:11:42</td>\n",
       "    </tr>\n",
       "    <tr>\n",
       "      <th>2</th>\n",
       "      <td>PaymentScreenSuccessful</td>\n",
       "      <td>3518123091307005509</td>\n",
       "      <td>1564054127</td>\n",
       "      <td>248</td>\n",
       "      <td>2019-07-25 11:28:47</td>\n",
       "      <td>2019-07-25</td>\n",
       "      <td>11:28:47</td>\n",
       "    </tr>\n",
       "    <tr>\n",
       "      <th>3</th>\n",
       "      <td>CartScreenAppear</td>\n",
       "      <td>3518123091307005509</td>\n",
       "      <td>1564054127</td>\n",
       "      <td>248</td>\n",
       "      <td>2019-07-25 11:28:47</td>\n",
       "      <td>2019-07-25</td>\n",
       "      <td>11:28:47</td>\n",
       "    </tr>\n",
       "    <tr>\n",
       "      <th>4</th>\n",
       "      <td>PaymentScreenSuccessful</td>\n",
       "      <td>6217807653094995999</td>\n",
       "      <td>1564055322</td>\n",
       "      <td>248</td>\n",
       "      <td>2019-07-25 11:48:42</td>\n",
       "      <td>2019-07-25</td>\n",
       "      <td>11:48:42</td>\n",
       "    </tr>\n",
       "  </tbody>\n",
       "</table>\n",
       "</div>"
      ],
      "text/plain": [
       "                event_name              user_id  event_timestamp exp_id  \\\n",
       "0         MainScreenAppear  4575588528974610257       1564029816    246   \n",
       "1         MainScreenAppear  7416695313311560658       1564053102    246   \n",
       "2  PaymentScreenSuccessful  3518123091307005509       1564054127    248   \n",
       "3         CartScreenAppear  3518123091307005509       1564054127    248   \n",
       "4  PaymentScreenSuccessful  6217807653094995999       1564055322    248   \n",
       "\n",
       "            date_time       date      time  \n",
       "0 2019-07-25 04:43:36 2019-07-25  04:43:36  \n",
       "1 2019-07-25 11:11:42 2019-07-25  11:11:42  \n",
       "2 2019-07-25 11:28:47 2019-07-25  11:28:47  \n",
       "3 2019-07-25 11:28:47 2019-07-25  11:28:47  \n",
       "4 2019-07-25 11:48:42 2019-07-25  11:48:42  "
      ]
     },
     "execution_count": 16,
     "metadata": {},
     "output_type": "execute_result"
    }
   ],
   "source": [
    "logs_data.head()"
   ]
  },
  {
   "cell_type": "markdown",
   "metadata": {},
   "source": [
    ">* Пропусков в данных нет\n",
    ">* Найдены дубликаты, мною было принято решение об их удалении, так как они занимают меньше 1% от всех данных\n",
    ">* Добавила столбцы с информацией о дате и времени по отдельности\n",
    ">* Изменены типы данных на подходящие\n"
   ]
  },
  {
   "cell_type": "markdown",
   "metadata": {},
   "source": [
    "<a id='check'></a>\n",
    "### Шаг 3. Изучение и проверка данных"
   ]
  },
  {
   "cell_type": "markdown",
   "metadata": {},
   "source": [
    "<a id='numberofevents'></a>\n",
    "**Количество событий в логе**"
   ]
  },
  {
   "cell_type": "code",
   "execution_count": 17,
   "metadata": {},
   "outputs": [
    {
     "data": {
      "text/plain": [
       "243713"
      ]
     },
     "execution_count": 17,
     "metadata": {},
     "output_type": "execute_result"
    }
   ],
   "source": [
    "number_of_events = len(logs_data)\n",
    "number_of_events"
   ]
  },
  {
   "cell_type": "markdown",
   "metadata": {},
   "source": [
    "Посмотрю, количество контроных событий."
   ]
  },
  {
   "cell_type": "code",
   "execution_count": 18,
   "metadata": {},
   "outputs": [
    {
     "data": {
      "text/html": [
       "<div>\n",
       "<style scoped>\n",
       "    .dataframe tbody tr th:only-of-type {\n",
       "        vertical-align: middle;\n",
       "    }\n",
       "\n",
       "    .dataframe tbody tr th {\n",
       "        vertical-align: top;\n",
       "    }\n",
       "\n",
       "    .dataframe thead th {\n",
       "        text-align: right;\n",
       "    }\n",
       "</style>\n",
       "<table border=\"1\" class=\"dataframe\">\n",
       "  <thead>\n",
       "    <tr style=\"text-align: right;\">\n",
       "      <th></th>\n",
       "      <th>user_id</th>\n",
       "    </tr>\n",
       "    <tr>\n",
       "      <th>event_name</th>\n",
       "      <th></th>\n",
       "    </tr>\n",
       "  </thead>\n",
       "  <tbody>\n",
       "    <tr>\n",
       "      <th>CartScreenAppear</th>\n",
       "      <td>42668</td>\n",
       "    </tr>\n",
       "    <tr>\n",
       "      <th>MainScreenAppear</th>\n",
       "      <td>119101</td>\n",
       "    </tr>\n",
       "    <tr>\n",
       "      <th>OffersScreenAppear</th>\n",
       "      <td>46808</td>\n",
       "    </tr>\n",
       "    <tr>\n",
       "      <th>PaymentScreenSuccessful</th>\n",
       "      <td>34118</td>\n",
       "    </tr>\n",
       "    <tr>\n",
       "      <th>Tutorial</th>\n",
       "      <td>1018</td>\n",
       "    </tr>\n",
       "  </tbody>\n",
       "</table>\n",
       "</div>"
      ],
      "text/plain": [
       "                         user_id\n",
       "event_name                      \n",
       "CartScreenAppear           42668\n",
       "MainScreenAppear          119101\n",
       "OffersScreenAppear         46808\n",
       "PaymentScreenSuccessful    34118\n",
       "Tutorial                    1018"
      ]
     },
     "execution_count": 18,
     "metadata": {},
     "output_type": "execute_result"
    }
   ],
   "source": [
    "logs_data.groupby('event_name').agg({'user_id':'count'})"
   ]
  },
  {
   "cell_type": "markdown",
   "metadata": {},
   "source": [
    "<a id='numberofusers'></a>\n",
    "**Количество пользователей**"
   ]
  },
  {
   "cell_type": "code",
   "execution_count": 19,
   "metadata": {},
   "outputs": [
    {
     "data": {
      "text/plain": [
       "7551"
      ]
     },
     "execution_count": 19,
     "metadata": {},
     "output_type": "execute_result"
    }
   ],
   "source": [
    "number_of_users = logs_data['user_id'].nunique()\n",
    "number_of_users"
   ]
  },
  {
   "cell_type": "markdown",
   "metadata": {},
   "source": [
    "<a id='avgeventsperuser'></a>\n",
    "**Количество в среднем событий на пользователя**"
   ]
  },
  {
   "cell_type": "code",
   "execution_count": 20,
   "metadata": {},
   "outputs": [
    {
     "data": {
      "text/plain": [
       "'В среднем, на одного пользователя приходится 32 события'"
      ]
     },
     "execution_count": 20,
     "metadata": {},
     "output_type": "execute_result"
    }
   ],
   "source": [
    "'В среднем, на одного пользователя приходится {:0.0f} события'.\\\n",
    "format(number_of_events / number_of_users)"
   ]
  },
  {
   "cell_type": "code",
   "execution_count": 21,
   "metadata": {},
   "outputs": [
    {
     "data": {
      "text/html": [
       "<div>\n",
       "<style scoped>\n",
       "    .dataframe tbody tr th:only-of-type {\n",
       "        vertical-align: middle;\n",
       "    }\n",
       "\n",
       "    .dataframe tbody tr th {\n",
       "        vertical-align: top;\n",
       "    }\n",
       "\n",
       "    .dataframe thead th {\n",
       "        text-align: right;\n",
       "    }\n",
       "</style>\n",
       "<table border=\"1\" class=\"dataframe\">\n",
       "  <thead>\n",
       "    <tr style=\"text-align: right;\">\n",
       "      <th></th>\n",
       "      <th>user_id</th>\n",
       "      <th>event_name</th>\n",
       "    </tr>\n",
       "  </thead>\n",
       "  <tbody>\n",
       "    <tr>\n",
       "      <th>0</th>\n",
       "      <td>1000608915523616548</td>\n",
       "      <td>3</td>\n",
       "    </tr>\n",
       "    <tr>\n",
       "      <th>1</th>\n",
       "      <td>100724994572555335</td>\n",
       "      <td>2</td>\n",
       "    </tr>\n",
       "    <tr>\n",
       "      <th>2</th>\n",
       "      <td>1008242126838007188</td>\n",
       "      <td>24</td>\n",
       "    </tr>\n",
       "    <tr>\n",
       "      <th>3</th>\n",
       "      <td>1009503747199967885</td>\n",
       "      <td>37</td>\n",
       "    </tr>\n",
       "    <tr>\n",
       "      <th>4</th>\n",
       "      <td>1009745980451513098</td>\n",
       "      <td>31</td>\n",
       "    </tr>\n",
       "    <tr>\n",
       "      <th>...</th>\n",
       "      <td>...</td>\n",
       "      <td>...</td>\n",
       "    </tr>\n",
       "    <tr>\n",
       "      <th>7546</th>\n",
       "      <td>992321565231279868</td>\n",
       "      <td>7</td>\n",
       "    </tr>\n",
       "    <tr>\n",
       "      <th>7547</th>\n",
       "      <td>993193057518949787</td>\n",
       "      <td>5</td>\n",
       "    </tr>\n",
       "    <tr>\n",
       "      <th>7548</th>\n",
       "      <td>995065401066914588</td>\n",
       "      <td>3</td>\n",
       "    </tr>\n",
       "    <tr>\n",
       "      <th>7549</th>\n",
       "      <td>997141886226099626</td>\n",
       "      <td>13</td>\n",
       "    </tr>\n",
       "    <tr>\n",
       "      <th>7550</th>\n",
       "      <td>997959739029313547</td>\n",
       "      <td>10</td>\n",
       "    </tr>\n",
       "  </tbody>\n",
       "</table>\n",
       "<p>7551 rows × 2 columns</p>\n",
       "</div>"
      ],
      "text/plain": [
       "                  user_id  event_name\n",
       "0     1000608915523616548           3\n",
       "1      100724994572555335           2\n",
       "2     1008242126838007188          24\n",
       "3     1009503747199967885          37\n",
       "4     1009745980451513098          31\n",
       "...                   ...         ...\n",
       "7546   992321565231279868           7\n",
       "7547   993193057518949787           5\n",
       "7548   995065401066914588           3\n",
       "7549   997141886226099626          13\n",
       "7550   997959739029313547          10\n",
       "\n",
       "[7551 rows x 2 columns]"
      ]
     },
     "execution_count": 21,
     "metadata": {},
     "output_type": "execute_result"
    }
   ],
   "source": [
    "events = logs_data.groupby('user_id', as_index=False).agg({'event_name':'count'})\n",
    "events"
   ]
  },
  {
   "cell_type": "code",
   "execution_count": 22,
   "metadata": {},
   "outputs": [
    {
     "data": {
      "image/png": "[encoded data removed]",
      "text/plain": [
       "<Figure size 432x288 with 1 Axes>"
      ]
     },
     "metadata": {
      "needs_background": "light"
     },
     "output_type": "display_data"
    }
   ],
   "source": [
    "events.hist(bins=100)\n",
    "plt.xlabel('Количество событий')\n",
    "plt.ylabel('Частота событий')\n",
    "plt.title(\"Количество событий на пользователя\")\n",
    "plt.show()"
   ]
  },
  {
   "cell_type": "code",
   "execution_count": 23,
   "metadata": {},
   "outputs": [
    {
     "data": {
      "text/html": [
       "<div>\n",
       "<style scoped>\n",
       "    .dataframe tbody tr th:only-of-type {\n",
       "        vertical-align: middle;\n",
       "    }\n",
       "\n",
       "    .dataframe tbody tr th {\n",
       "        vertical-align: top;\n",
       "    }\n",
       "\n",
       "    .dataframe thead th {\n",
       "        text-align: right;\n",
       "    }\n",
       "</style>\n",
       "<table border=\"1\" class=\"dataframe\">\n",
       "  <thead>\n",
       "    <tr style=\"text-align: right;\">\n",
       "      <th></th>\n",
       "      <th>event_name</th>\n",
       "    </tr>\n",
       "  </thead>\n",
       "  <tbody>\n",
       "    <tr>\n",
       "      <th>count</th>\n",
       "      <td>7551.000000</td>\n",
       "    </tr>\n",
       "    <tr>\n",
       "      <th>mean</th>\n",
       "      <td>32.275593</td>\n",
       "    </tr>\n",
       "    <tr>\n",
       "      <th>std</th>\n",
       "      <td>65.154219</td>\n",
       "    </tr>\n",
       "    <tr>\n",
       "      <th>min</th>\n",
       "      <td>1.000000</td>\n",
       "    </tr>\n",
       "    <tr>\n",
       "      <th>25%</th>\n",
       "      <td>9.000000</td>\n",
       "    </tr>\n",
       "    <tr>\n",
       "      <th>50%</th>\n",
       "      <td>20.000000</td>\n",
       "    </tr>\n",
       "    <tr>\n",
       "      <th>75%</th>\n",
       "      <td>37.000000</td>\n",
       "    </tr>\n",
       "    <tr>\n",
       "      <th>max</th>\n",
       "      <td>2307.000000</td>\n",
       "    </tr>\n",
       "  </tbody>\n",
       "</table>\n",
       "</div>"
      ],
      "text/plain": [
       "        event_name\n",
       "count  7551.000000\n",
       "mean     32.275593\n",
       "std      65.154219\n",
       "min       1.000000\n",
       "25%       9.000000\n",
       "50%      20.000000\n",
       "75%      37.000000\n",
       "max    2307.000000"
      ]
     },
     "execution_count": 23,
     "metadata": {},
     "output_type": "execute_result"
    }
   ],
   "source": [
    "events.describe()"
   ]
  },
  {
   "cell_type": "markdown",
   "metadata": {},
   "source": [
    "\n",
    "Видно, что максимально значение очень большое, значит среднее значение брать не стоит, так как максимальное значение будет смещать среднее в большую сторону.\n"
   ]
  },
  {
   "cell_type": "code",
   "execution_count": 24,
   "metadata": {},
   "outputs": [
    {
     "data": {
      "text/plain": [
       "20.0"
      ]
     },
     "execution_count": 24,
     "metadata": {},
     "output_type": "execute_result"
    }
   ],
   "source": [
    "events['event_name'].median()"
   ]
  },
  {
   "cell_type": "markdown",
   "metadata": {},
   "source": [
    "\n",
    "Так как распределение не является нормальным, обычно, смотрят на моду.\n"
   ]
  },
  {
   "cell_type": "code",
   "execution_count": 25,
   "metadata": {},
   "outputs": [
    {
     "data": {
      "text/plain": [
       "0    5\n",
       "dtype: int64"
      ]
     },
     "execution_count": 25,
     "metadata": {},
     "output_type": "execute_result"
    }
   ],
   "source": [
    "events['event_name'].mode()"
   ]
  },
  {
   "cell_type": "markdown",
   "metadata": {},
   "source": [
    "\n",
    "Чаще всего пользователи осуществляют 5 событий на сайте\n"
   ]
  },
  {
   "cell_type": "markdown",
   "metadata": {},
   "source": [
    "<a id='actuality'></a>\n",
    "**Актуальные данные**"
   ]
  },
  {
   "cell_type": "code",
   "execution_count": 26,
   "metadata": {},
   "outputs": [
    {
     "data": {
      "text/plain": [
       "'Минимальная дата : 2019-07-25 04:43:36'"
      ]
     },
     "execution_count": 26,
     "metadata": {},
     "output_type": "execute_result"
    }
   ],
   "source": [
    "'Минимальная дата : {}'.format(logs_data['date_time'].min())"
   ]
  },
  {
   "cell_type": "code",
   "execution_count": 27,
   "metadata": {},
   "outputs": [
    {
     "data": {
      "text/plain": [
       "'Максимальная дата : 2019-08-07 21:15:17'"
      ]
     },
     "execution_count": 27,
     "metadata": {},
     "output_type": "execute_result"
    }
   ],
   "source": [
    "'Максимальная дата : {}'.format(logs_data['date_time'].max())"
   ]
  },
  {
   "cell_type": "code",
   "execution_count": 28,
   "metadata": {},
   "outputs": [],
   "source": [
    "logs_data['hour'] = logs_data['date_time'].dt.hour"
   ]
  },
  {
   "cell_type": "code",
   "execution_count": 29,
   "metadata": {},
   "outputs": [
    {
     "data": {
      "image/png": "[encoded data removed]",
      "text/plain": [
       "<Figure size 432x288 with 1 Axes>"
      ]
     },
     "metadata": {},
     "output_type": "display_data"
    }
   ],
   "source": [
    "sns.set_style(\"dark\")\n",
    "logs_data['date'].hist()\n",
    "plt.xticks(rotation=45)\n",
    "plt.title('Гистограмма по дате события')\n",
    "plt.xlabel('Дата события')\n",
    "plt.ylabel('Частота события')\n",
    "plt.show()"
   ]
  },
  {
   "cell_type": "code",
   "execution_count": 30,
   "metadata": {},
   "outputs": [
    {
     "data": {
      "text/plain": [
       "2030"
      ]
     },
     "execution_count": 30,
     "metadata": {},
     "output_type": "execute_result"
    }
   ],
   "source": [
    "len(logs_data[logs_data['date'] =='2019-07-31'])"
   ]
  },
  {
   "cell_type": "code",
   "execution_count": 31,
   "metadata": {},
   "outputs": [
    {
     "data": {
      "text/plain": [
       "36141"
      ]
     },
     "execution_count": 31,
     "metadata": {},
     "output_type": "execute_result"
    }
   ],
   "source": [
    "len(logs_data[logs_data['date'] =='2019-08-01'])"
   ]
  },
  {
   "cell_type": "markdown",
   "metadata": {},
   "source": [
    "Видно, что до 31 июля включительно данных очень мало, скорее всего это связано с тем, что это данные из прошлого. А значит тест начался 1 августа, и данные до 1 августа можно удалить."
   ]
  },
  {
   "cell_type": "code",
   "execution_count": 32,
   "metadata": {},
   "outputs": [
    {
     "data": {
      "image/png": "[encoded data removed]",
      "text/plain": [
       "<Figure size 432x288 with 1 Axes>"
      ]
     },
     "metadata": {},
     "output_type": "display_data"
    }
   ],
   "source": [
    "logs_data['hour'].hist(bins=15)\n",
    "plt.title('Гистограмма по времени совершения события')\n",
    "plt.xlabel('Время совершения события')\n",
    "plt.ylabel('Частота события')\n",
    "plt.show()"
   ]
  },
  {
   "cell_type": "markdown",
   "metadata": {},
   "source": [
    "\n",
    "Видно, что в определенные часы у нас пик активности, а в определенные - спад.\n",
    "\n",
    "---"
   ]
  },
  {
   "cell_type": "code",
   "execution_count": 33,
   "metadata": {},
   "outputs": [],
   "source": [
    "logs_data_new = logs_data[(logs_data['date_time'] >= '2019-08-01')]"
   ]
  },
  {
   "cell_type": "code",
   "execution_count": 34,
   "metadata": {},
   "outputs": [
    {
     "data": {
      "text/plain": [
       "(240887, 8)"
      ]
     },
     "execution_count": 34,
     "metadata": {},
     "output_type": "execute_result"
    }
   ],
   "source": [
    "logs_data_new.shape"
   ]
  },
  {
   "cell_type": "code",
   "execution_count": 35,
   "metadata": {},
   "outputs": [
    {
     "data": {
      "text/plain": [
       "2826"
      ]
     },
     "execution_count": 35,
     "metadata": {},
     "output_type": "execute_result"
    }
   ],
   "source": [
    "logs_data.shape[0] - logs_data_new.shape[0]"
   ]
  },
  {
   "cell_type": "code",
   "execution_count": 36,
   "metadata": {},
   "outputs": [
    {
     "data": {
      "text/plain": [
       "1.159560630741897"
      ]
     },
     "execution_count": 36,
     "metadata": {},
     "output_type": "execute_result"
    }
   ],
   "source": [
    "(logs_data.shape[0] - logs_data_new.shape[0])/(logs_data.shape[0])* 100"
   ]
  },
  {
   "cell_type": "markdown",
   "metadata": {},
   "source": [
    "\n",
    "Получилось, что отбросили 2826 событий, 1% данных. Это довольно мало, такое изменение не повлияет на результаты дальнейшего исследования\n",
    "\n",
    "---"
   ]
  },
  {
   "cell_type": "code",
   "execution_count": 37,
   "metadata": {},
   "outputs": [
    {
     "data": {
      "text/plain": [
       "7534"
      ]
     },
     "execution_count": 37,
     "metadata": {},
     "output_type": "execute_result"
    }
   ],
   "source": [
    "logs_data_new['user_id'].nunique()"
   ]
  },
  {
   "cell_type": "code",
   "execution_count": 38,
   "metadata": {},
   "outputs": [
    {
     "data": {
      "text/plain": [
       "17"
      ]
     },
     "execution_count": 38,
     "metadata": {},
     "output_type": "execute_result"
    }
   ],
   "source": [
    "logs_data['user_id'].nunique() - logs_data_new['user_id'].nunique()"
   ]
  },
  {
   "cell_type": "code",
   "execution_count": 39,
   "metadata": {},
   "outputs": [
    {
     "data": {
      "text/plain": [
       "0.22513574361011784"
      ]
     },
     "execution_count": 39,
     "metadata": {},
     "output_type": "execute_result"
    }
   ],
   "source": [
    "(logs_data['user_id'].nunique() - logs_data_new['user_id'].nunique())/logs_data['user_id'].nunique() * 100"
   ]
  },
  {
   "cell_type": "markdown",
   "metadata": {},
   "source": [
    "\n",
    "Из пользователей потеряли 17 человек, меньше  1%, что является незначительный потерей.\n",
    "\n",
    "---"
   ]
  },
  {
   "cell_type": "code",
   "execution_count": 40,
   "metadata": {},
   "outputs": [
    {
     "data": {
      "text/plain": [
       "'Группа 246'"
      ]
     },
     "metadata": {},
     "output_type": "display_data"
    },
    {
     "data": {
      "text/plain": [
       "'Количество пользователей в группе 2484'"
      ]
     },
     "metadata": {},
     "output_type": "display_data"
    },
    {
     "data": {
      "text/plain": [
       "'Количество событий в группе 79302'"
      ]
     },
     "metadata": {},
     "output_type": "display_data"
    },
    {
     "data": {
      "text/plain": [
       "'Группа 248'"
      ]
     },
     "metadata": {},
     "output_type": "display_data"
    },
    {
     "data": {
      "text/plain": [
       "'Количество пользователей в группе 2537'"
      ]
     },
     "metadata": {},
     "output_type": "display_data"
    },
    {
     "data": {
      "text/plain": [
       "'Количество событий в группе 84563'"
      ]
     },
     "metadata": {},
     "output_type": "display_data"
    },
    {
     "data": {
      "text/plain": [
       "'Группа 247'"
      ]
     },
     "metadata": {},
     "output_type": "display_data"
    },
    {
     "data": {
      "text/plain": [
       "'Количество пользователей в группе 2513'"
      ]
     },
     "metadata": {},
     "output_type": "display_data"
    },
    {
     "data": {
      "text/plain": [
       "'Количество событий в группе 77022'"
      ]
     },
     "metadata": {},
     "output_type": "display_data"
    }
   ],
   "source": [
    "for number in(logs_data['exp_id'].unique()):\n",
    "    display('Группа ' + number)\n",
    "    display('Количество пользователей в группе {}'.\\\n",
    "            format(logs_data_new[logs_data_new['exp_id'] == number]['user_id'].nunique()))\n",
    "    display('Количество событий в группе {}'.\\\n",
    "            format(logs_data_new[logs_data_new['exp_id'] == number]['event_name'].count()))\n"
   ]
  },
  {
   "cell_type": "markdown",
   "metadata": {},
   "source": [
    "\n",
    "Видим, что в каждой группе имеются пользователи. Количество пользователей в группе примерно одинаковое, но в 248 группе пользователи были активнее, нежели чем в контрольных группах.\n"
   ]
  },
  {
   "cell_type": "markdown",
   "metadata": {},
   "source": [
    "    \n",
    ">В данном шаге:\n",
    ">* Изучила количество событий, пользователей, среднее количество событий на пользователя\n",
    ">* Изучила гистограммы по дате и времени, отбросила 1% событий и меньше 1% пользователей, так как эти данные пришли еще до начала тестов\n",
    ">* Проверила количество пользователей и событий на каждую группу\n"
   ]
  },
  {
   "cell_type": "markdown",
   "metadata": {},
   "source": [
    "<a id='funnel'></a>\n",
    "### Шаг 4. Изучение воронки событий"
   ]
  },
  {
   "cell_type": "markdown",
   "metadata": {},
   "source": [
    "<a id='eventsisin'></a>\n",
    "Посмотрю, какие события встречаются в логах"
   ]
  },
  {
   "cell_type": "code",
   "execution_count": 41,
   "metadata": {},
   "outputs": [
    {
     "data": {
      "text/html": [
       "<div>\n",
       "<style scoped>\n",
       "    .dataframe tbody tr th:only-of-type {\n",
       "        vertical-align: middle;\n",
       "    }\n",
       "\n",
       "    .dataframe tbody tr th {\n",
       "        vertical-align: top;\n",
       "    }\n",
       "\n",
       "    .dataframe thead th {\n",
       "        text-align: right;\n",
       "    }\n",
       "</style>\n",
       "<table border=\"1\" class=\"dataframe\">\n",
       "  <thead>\n",
       "    <tr style=\"text-align: right;\">\n",
       "      <th></th>\n",
       "      <th>event_name</th>\n",
       "      <th>frequency</th>\n",
       "    </tr>\n",
       "  </thead>\n",
       "  <tbody>\n",
       "    <tr>\n",
       "      <th>1</th>\n",
       "      <td>MainScreenAppear</td>\n",
       "      <td>117328</td>\n",
       "    </tr>\n",
       "    <tr>\n",
       "      <th>2</th>\n",
       "      <td>OffersScreenAppear</td>\n",
       "      <td>46333</td>\n",
       "    </tr>\n",
       "    <tr>\n",
       "      <th>0</th>\n",
       "      <td>CartScreenAppear</td>\n",
       "      <td>42303</td>\n",
       "    </tr>\n",
       "    <tr>\n",
       "      <th>3</th>\n",
       "      <td>PaymentScreenSuccessful</td>\n",
       "      <td>33918</td>\n",
       "    </tr>\n",
       "    <tr>\n",
       "      <th>4</th>\n",
       "      <td>Tutorial</td>\n",
       "      <td>1005</td>\n",
       "    </tr>\n",
       "  </tbody>\n",
       "</table>\n",
       "</div>"
      ],
      "text/plain": [
       "                event_name  frequency\n",
       "1         MainScreenAppear     117328\n",
       "2       OffersScreenAppear      46333\n",
       "0         CartScreenAppear      42303\n",
       "3  PaymentScreenSuccessful      33918\n",
       "4                 Tutorial       1005"
      ]
     },
     "execution_count": 41,
     "metadata": {},
     "output_type": "execute_result"
    }
   ],
   "source": [
    "events_is_in = logs_data_new.groupby('event_name', as_index=False).\\\n",
    "agg({'user_id':'count'})\n",
    "events_is_in.rename(columns={'user_id':'frequency'}, inplace= True)\n",
    "events_is_in = events_is_in.sort_values('frequency', ascending=False)\n",
    "events_is_in"
   ]
  },
  {
   "cell_type": "code",
   "execution_count": 42,
   "metadata": {},
   "outputs": [
    {
     "data": {
      "image/png": "[encoded data removed]",
      "text/plain": [
       "<Figure size 432x288 with 1 Axes>"
      ]
     },
     "metadata": {},
     "output_type": "display_data"
    }
   ],
   "source": [
    "sns.set_style(\"dark\")\n",
    "sns.barplot(x='frequency', y='event_name', data=events_is_in)\n",
    "plt.grid(True)\n",
    "plt.title('Как часто встречается событие в логе')\n",
    "plt.xlabel('Частота события')\n",
    "plt.ylabel('Название события')\n",
    "plt.show()"
   ]
  },
  {
   "cell_type": "markdown",
   "metadata": {},
   "source": [
    "\n",
    "Чаще всего встречается событие MainScreenAppear, такие события как OffersScreenAppear,CartScreenAppear имеют почти одинаковые значения, а Tutorial встречается меньше всего."
   ]
  },
  {
   "cell_type": "markdown",
   "metadata": {},
   "source": [
    "<a id='usersperevents'></a>\n",
    "Посчитаю, сколько пользователей совершали каждое из этих событий, а также долю пользователей, которые совершали союытие один раз."
   ]
  },
  {
   "cell_type": "code",
   "execution_count": 43,
   "metadata": {},
   "outputs": [
    {
     "data": {
      "text/html": [
       "<div>\n",
       "<style scoped>\n",
       "    .dataframe tbody tr th:only-of-type {\n",
       "        vertical-align: middle;\n",
       "    }\n",
       "\n",
       "    .dataframe tbody tr th {\n",
       "        vertical-align: top;\n",
       "    }\n",
       "\n",
       "    .dataframe thead th {\n",
       "        text-align: right;\n",
       "    }\n",
       "</style>\n",
       "<table border=\"1\" class=\"dataframe\">\n",
       "  <thead>\n",
       "    <tr style=\"text-align: right;\">\n",
       "      <th></th>\n",
       "      <th>event_name</th>\n",
       "      <th>number_of_users</th>\n",
       "      <th>ratio</th>\n",
       "    </tr>\n",
       "  </thead>\n",
       "  <tbody>\n",
       "    <tr>\n",
       "      <th>1</th>\n",
       "      <td>MainScreenAppear</td>\n",
       "      <td>7419</td>\n",
       "      <td>93.68%</td>\n",
       "    </tr>\n",
       "    <tr>\n",
       "      <th>2</th>\n",
       "      <td>OffersScreenAppear</td>\n",
       "      <td>4593</td>\n",
       "      <td>90.09%</td>\n",
       "    </tr>\n",
       "    <tr>\n",
       "      <th>0</th>\n",
       "      <td>CartScreenAppear</td>\n",
       "      <td>3734</td>\n",
       "      <td>91.17%</td>\n",
       "    </tr>\n",
       "    <tr>\n",
       "      <th>3</th>\n",
       "      <td>PaymentScreenSuccessful</td>\n",
       "      <td>3539</td>\n",
       "      <td>89.57%</td>\n",
       "    </tr>\n",
       "    <tr>\n",
       "      <th>4</th>\n",
       "      <td>Tutorial</td>\n",
       "      <td>840</td>\n",
       "      <td>16.42%</td>\n",
       "    </tr>\n",
       "  </tbody>\n",
       "</table>\n",
       "</div>"
      ],
      "text/plain": [
       "                event_name  number_of_users   ratio\n",
       "1         MainScreenAppear             7419  93.68%\n",
       "2       OffersScreenAppear             4593  90.09%\n",
       "0         CartScreenAppear             3734  91.17%\n",
       "3  PaymentScreenSuccessful             3539  89.57%\n",
       "4                 Tutorial              840  16.42%"
      ]
     },
     "execution_count": 43,
     "metadata": {},
     "output_type": "execute_result"
    }
   ],
   "source": [
    "users_per_events = logs_data_new.groupby('event_name', as_index=False).\\\n",
    "agg({'user_id':'nunique'})\n",
    "users_per_events.rename(columns={'user_id':'number_of_users'}, inplace=True)\n",
    "\n",
    "users_per_events['ratio'] = ((events_is_in['frequency'] - users_per_events['number_of_users'])/\\\n",
    "events_is_in['frequency']).map(lambda x: '{0:.2%}'.format(x))\n",
    "users_per_events = users_per_events.sort_values('number_of_users', ascending=False)\n",
    "users_per_events "
   ]
  },
  {
   "cell_type": "code",
   "execution_count": 44,
   "metadata": {},
   "outputs": [
    {
     "data": {
      "image/png": "[encoded data removed]",
      "text/plain": [
       "<Figure size 432x288 with 1 Axes>"
      ]
     },
     "metadata": {},
     "output_type": "display_data"
    }
   ],
   "source": [
    "sns.set_style(\"dark\")\n",
    "sns.barplot(x='number_of_users', y='event_name', data=users_per_events)\n",
    "plt.grid(True)\n",
    "plt.title(\"Количество пользователей, которые совершили событие\")\n",
    "plt.xlabel('Количество пользователей, которые совершили событие')\n",
    "plt.ylabel('Название события')\n",
    "plt.show()"
   ]
  },
  {
   "cell_type": "markdown",
   "metadata": {},
   "source": [
    "Только у события Tutorial маленький процент пользователей, которые совершали это осбытие более 1 раза. У остальных больше 88%."
   ]
  },
  {
   "cell_type": "markdown",
   "metadata": {},
   "source": [
    "<a id='eventsteps'></a>\n",
    "Порядок событий следующий:\n",
    "* Событие 1 - MainScreenAppear - пользователь заходит на  главную страницу;\n",
    "* Событие 2 - OffersScreenAppear - пользователь выбирает продукты на странице продуктов;\n",
    "* Событие 3 - CartScreenAppear - пользователь добавляет продукты в корзину;\n",
    "* Событие 4 - PaymentScreenSuccessful - пользователь производит оплату;\n",
    "\n",
    "---"
   ]
  },
  {
   "cell_type": "markdown",
   "metadata": {},
   "source": [
    "Tutorial - пользователь заходит на страницу с обучением ( данное событие может появится на любой стадии, его я не буду включать в воронку "
   ]
  },
  {
   "cell_type": "code",
   "execution_count": 45,
   "metadata": {},
   "outputs": [],
   "source": [
    "users_per_events.drop(index=4, inplace=True)"
   ]
  },
  {
   "cell_type": "code",
   "execution_count": 86,
   "metadata": {
    "scrolled": true
   },
   "outputs": [
    {
     "data": {
      "image/png": "[encoded data removed]"
     },
     "metadata": {},
     "output_type": "display_data"
    }
   ],
   "source": [
    "fig = go.Figure(go.Funnel(\n",
    "x=users_per_events['number_of_users'],\n",
    "y=users_per_events['event_name'],\n",
    "textposition = \"inside\",\n",
    "textinfo = \"value+percent previous\",\n",
    "marker = {\"color\": [\"deepskyblue\", \"lightsalmon\", \"tan\", \"teal\", \"silver\"]}),\\\n",
    "                layout_title_text=\"Воронка событий\")\n",
    "fig.update_traces(hovertemplate='of total: %{percentInitial}<br>'+\\\n",
    "                  'of previous: %{percentPrevious}')\n",
    "\n",
    "\n",
    "fig.show('png')"
   ]
  },
  {
   "cell_type": "markdown",
   "metadata": {},
   "source": [
    "<a id='funnelpercent'></a>\n",
    "Больше всего пользователей (39%) теряется на первом шаге, что может говорить о том, что главная страница недостаточно презентабельна и наглядна, пользователю могло не понравится (шрифты, картинки, расположение на странице и тд.)"
   ]
  },
  {
   "cell_type": "markdown",
   "metadata": {},
   "source": [
    "Также можно увидеть, что только 5 процентов людей уходят после добавления товара в корзину."
   ]
  },
  {
   "cell_type": "markdown",
   "metadata": {},
   "source": [
    "17% людей уходят после просмотра страницы с товарами, это может говорить о том, что они не нашли нужный им товар, или ценовая политика данного сервиса не устраивает пользователя."
   ]
  },
  {
   "cell_type": "markdown",
   "metadata": {},
   "source": [
    "До последнего события доходят 47,8% пользователей, очень неплохие показатели. Но  исследуемый промежуток у нас меньше 2 недель."
   ]
  },
  {
   "cell_type": "markdown",
   "metadata": {},
   "source": [
    "<a id='AABtests'></a>\n",
    "### Шаг 5. Анализ результатов эксперемента"
   ]
  },
  {
   "cell_type": "markdown",
   "metadata": {},
   "source": [
    "<a id='numberofuserstest'></a>\n",
    "Количество пользователей в каждой эксперементальной группе"
   ]
  },
  {
   "cell_type": "code",
   "execution_count": 48,
   "metadata": {},
   "outputs": [],
   "source": [
    "group246 = logs_data_new[logs_data_new['exp_id'] == '246']\n",
    "group247 = logs_data_new[logs_data_new['exp_id'] == '247']\n",
    "group248 = logs_data_new[logs_data_new['exp_id'] == '248']"
   ]
  },
  {
   "cell_type": "code",
   "execution_count": 49,
   "metadata": {},
   "outputs": [
    {
     "data": {
      "text/plain": [
       "'2484 пользователей в эксперементальной группе 246'"
      ]
     },
     "execution_count": 49,
     "metadata": {},
     "output_type": "execute_result"
    }
   ],
   "source": [
    "'{} пользователей в эксперементальной группе 246'.format(group246['user_id'].nunique())"
   ]
  },
  {
   "cell_type": "code",
   "execution_count": 50,
   "metadata": {},
   "outputs": [
    {
     "data": {
      "text/plain": [
       "'2513 пользователей в эксперементальной группе 247'"
      ]
     },
     "execution_count": 50,
     "metadata": {},
     "output_type": "execute_result"
    }
   ],
   "source": [
    "'{} пользователей в эксперементальной группе 247'.format(group247['user_id'].nunique())"
   ]
  },
  {
   "cell_type": "code",
   "execution_count": 51,
   "metadata": {},
   "outputs": [
    {
     "data": {
      "text/plain": [
       "'2537 пользователей в эксперементальной группе 248'"
      ]
     },
     "execution_count": 51,
     "metadata": {},
     "output_type": "execute_result"
    }
   ],
   "source": [
    "'{} пользователей в эксперементальной группе 248'.format(group248['user_id'].nunique())"
   ]
  },
  {
   "cell_type": "markdown",
   "metadata": {},
   "source": [
    "<a id='statsdifference'></a>\n",
    "Чтобы проверить статистическую значимость, \n",
    "сформирую нулевую гипотезу: Cтатистически значимых различий между долями в группах нет"
   ]
  },
  {
   "cell_type": "markdown",
   "metadata": {},
   "source": [
    "\n",
    "Обратная гипотеза: между долями есть значимая разница\n"
   ]
  },
  {
   "cell_type": "code",
   "execution_count": 52,
   "metadata": {},
   "outputs": [
    {
     "data": {
      "text/html": [
       "<div>\n",
       "<style scoped>\n",
       "    .dataframe tbody tr th:only-of-type {\n",
       "        vertical-align: middle;\n",
       "    }\n",
       "\n",
       "    .dataframe tbody tr th {\n",
       "        vertical-align: top;\n",
       "    }\n",
       "\n",
       "    .dataframe thead th {\n",
       "        text-align: right;\n",
       "    }\n",
       "</style>\n",
       "<table border=\"1\" class=\"dataframe\">\n",
       "  <thead>\n",
       "    <tr style=\"text-align: right;\">\n",
       "      <th></th>\n",
       "      <th>number_of_users</th>\n",
       "    </tr>\n",
       "  </thead>\n",
       "  <tbody>\n",
       "    <tr>\n",
       "      <th>246</th>\n",
       "      <td>2484</td>\n",
       "    </tr>\n",
       "    <tr>\n",
       "      <th>247</th>\n",
       "      <td>2513</td>\n",
       "    </tr>\n",
       "    <tr>\n",
       "      <th>248</th>\n",
       "      <td>2537</td>\n",
       "    </tr>\n",
       "  </tbody>\n",
       "</table>\n",
       "</div>"
      ],
      "text/plain": [
       "     number_of_users\n",
       "246             2484\n",
       "247             2513\n",
       "248             2537"
      ]
     },
     "execution_count": 52,
     "metadata": {},
     "output_type": "execute_result"
    }
   ],
   "source": [
    "data = {'number_of_users':[group246['user_id'].nunique(),\\\n",
    "           group247['user_id'].nunique(),\\\n",
    "          group248['user_id'].nunique()]}\n",
    "index=['246', '247', '248']\n",
    "experiments = pd.DataFrame(data, index=index)\n",
    "experiments"
   ]
  },
  {
   "cell_type": "code",
   "execution_count": 53,
   "metadata": {},
   "outputs": [
    {
     "data": {
      "text/html": [
       "<div>\n",
       "<style scoped>\n",
       "    .dataframe tbody tr th:only-of-type {\n",
       "        vertical-align: middle;\n",
       "    }\n",
       "\n",
       "    .dataframe tbody tr th {\n",
       "        vertical-align: top;\n",
       "    }\n",
       "\n",
       "    .dataframe thead th {\n",
       "        text-align: right;\n",
       "    }\n",
       "</style>\n",
       "<table border=\"1\" class=\"dataframe\">\n",
       "  <thead>\n",
       "    <tr style=\"text-align: right;\">\n",
       "      <th>exp_id</th>\n",
       "      <th>246</th>\n",
       "      <th>247</th>\n",
       "      <th>248</th>\n",
       "    </tr>\n",
       "    <tr>\n",
       "      <th>event_name</th>\n",
       "      <th></th>\n",
       "      <th></th>\n",
       "      <th></th>\n",
       "    </tr>\n",
       "  </thead>\n",
       "  <tbody>\n",
       "    <tr>\n",
       "      <th>MainScreenAppear</th>\n",
       "      <td>2450</td>\n",
       "      <td>2476</td>\n",
       "      <td>2493</td>\n",
       "    </tr>\n",
       "    <tr>\n",
       "      <th>OffersScreenAppear</th>\n",
       "      <td>1542</td>\n",
       "      <td>1520</td>\n",
       "      <td>1531</td>\n",
       "    </tr>\n",
       "    <tr>\n",
       "      <th>CartScreenAppear</th>\n",
       "      <td>1266</td>\n",
       "      <td>1238</td>\n",
       "      <td>1230</td>\n",
       "    </tr>\n",
       "    <tr>\n",
       "      <th>PaymentScreenSuccessful</th>\n",
       "      <td>1200</td>\n",
       "      <td>1158</td>\n",
       "      <td>1181</td>\n",
       "    </tr>\n",
       "    <tr>\n",
       "      <th>Tutorial</th>\n",
       "      <td>278</td>\n",
       "      <td>283</td>\n",
       "      <td>279</td>\n",
       "    </tr>\n",
       "  </tbody>\n",
       "</table>\n",
       "</div>"
      ],
      "text/plain": [
       "exp_id                    246   247   248\n",
       "event_name                               \n",
       "MainScreenAppear         2450  2476  2493\n",
       "OffersScreenAppear       1542  1520  1531\n",
       "CartScreenAppear         1266  1238  1230\n",
       "PaymentScreenSuccessful  1200  1158  1181\n",
       "Tutorial                  278   283   279"
      ]
     },
     "execution_count": 53,
     "metadata": {},
     "output_type": "execute_result"
    }
   ],
   "source": [
    "funnel = logs_data_new.pivot_table(index='event_name',\n",
    "                                  columns='exp_id',\n",
    "                                  values = 'user_id',\n",
    "                                  aggfunc = 'nunique').sort_values(by='246', ascending=False)\n",
    "funnel"
   ]
  },
  {
   "cell_type": "code",
   "execution_count": 54,
   "metadata": {},
   "outputs": [],
   "source": [
    "def z_test(exp_1, exp_2):\n",
    "    for event in logs_data_new['event_name'].unique():\n",
    "        print(\"Событие: \", event)\n",
    "        \n",
    "        alpha =.05\n",
    "    \n",
    "        successes = [funnel.loc[event, exp_1], funnel.loc[event, exp_2]]\n",
    "        trials = [experiments.loc[exp_1, 'number_of_users'], experiments.loc[exp_2, 'number_of_users']]\n",
    "    \n",
    "        p1 = successes[0] / trials[0]\n",
    "        p2 = successes[1] / trials[1]\n",
    "    \n",
    "        p_comb = (successes[0] + successes[1]) / (trials[0] + trials[1])\n",
    "        difference = p1 - p2\n",
    "    \n",
    "        z_value = difference/ mth.sqrt(p_comb*(1 - p_comb)*(1/trials[0]+1/trials[1]))\n",
    "        distr = st.norm(0, 1)\n",
    "    \n",
    "        p_value = (1-distr.cdf(abs(z_value)))*2\n",
    "        print('p-значения: ', p_value)\n",
    "        if(p_value < alpha):\n",
    "            print('Отвергаем нулевую гипотезу')\n",
    "        else:\n",
    "            print('Не получилось отвергнуть нулевую гипотезу, нет оснований считать доли разными')\n",
    "        print('')\n"
   ]
  },
  {
   "cell_type": "code",
   "execution_count": 55,
   "metadata": {},
   "outputs": [
    {
     "name": "stdout",
     "output_type": "stream",
     "text": [
      "Событие:  Tutorial\n",
      "p-значения:  0.9376996189257114\n",
      "Не получилось отвергнуть нулевую гипотезу, нет оснований считать доли разными\n",
      "\n",
      "Событие:  MainScreenAppear\n",
      "p-значения:  0.7570597232046099\n",
      "Не получилось отвергнуть нулевую гипотезу, нет оснований считать доли разными\n",
      "\n",
      "Событие:  OffersScreenAppear\n",
      "p-значения:  0.2480954578522181\n",
      "Не получилось отвергнуть нулевую гипотезу, нет оснований считать доли разными\n",
      "\n",
      "Событие:  CartScreenAppear\n",
      "p-значения:  0.22883372237997213\n",
      "Не получилось отвергнуть нулевую гипотезу, нет оснований считать доли разными\n",
      "\n",
      "Событие:  PaymentScreenSuccessful\n",
      "p-значения:  0.11456679313141849\n",
      "Не получилось отвергнуть нулевую гипотезу, нет оснований считать доли разными\n",
      "\n"
     ]
    }
   ],
   "source": [
    "z_test('246', '247')\n"
   ]
  },
  {
   "cell_type": "markdown",
   "metadata": {},
   "source": [
    "Видно, что нулевую гипотезу мы не смогли отвергнуть ни в одном событии между выборками 246 и 247. Получается, что результаты А/А-теста успешные,различий в показателях нет.\n",
    "\n",
    "---"
   ]
  },
  {
   "cell_type": "markdown",
   "metadata": {},
   "source": [
    "<a id='statABdiff'></a>\n",
    "Теперь сравню результаты из каждой контрольной группы с экспериментальной группой."
   ]
  },
  {
   "cell_type": "code",
   "execution_count": 56,
   "metadata": {},
   "outputs": [
    {
     "name": "stdout",
     "output_type": "stream",
     "text": [
      "Событие:  Tutorial\n",
      "p-значения:  0.8264294010087645\n",
      "Не получилось отвергнуть нулевую гипотезу, нет оснований считать доли разными\n",
      "\n",
      "Событие:  MainScreenAppear\n",
      "p-значения:  0.2949721933554552\n",
      "Не получилось отвергнуть нулевую гипотезу, нет оснований считать доли разными\n",
      "\n",
      "Событие:  OffersScreenAppear\n",
      "p-значения:  0.20836205402738917\n",
      "Не получилось отвергнуть нулевую гипотезу, нет оснований считать доли разными\n",
      "\n",
      "Событие:  CartScreenAppear\n",
      "p-значения:  0.07842923237520116\n",
      "Не получилось отвергнуть нулевую гипотезу, нет оснований считать доли разными\n",
      "\n",
      "Событие:  PaymentScreenSuccessful\n",
      "p-значения:  0.2122553275697796\n",
      "Не получилось отвергнуть нулевую гипотезу, нет оснований считать доли разными\n",
      "\n"
     ]
    }
   ],
   "source": [
    "z_test('246', '248')\n"
   ]
  },
  {
   "cell_type": "code",
   "execution_count": 57,
   "metadata": {},
   "outputs": [
    {
     "name": "stdout",
     "output_type": "stream",
     "text": [
      "Событие:  Tutorial\n",
      "p-значения:  0.765323922474501\n",
      "Не получилось отвергнуть нулевую гипотезу, нет оснований считать доли разными\n",
      "\n",
      "Событие:  MainScreenAppear\n",
      "p-значения:  0.4587053616621515\n",
      "Не получилось отвергнуть нулевую гипотезу, нет оснований считать доли разными\n",
      "\n",
      "Событие:  OffersScreenAppear\n",
      "p-значения:  0.9197817830592261\n",
      "Не получилось отвергнуть нулевую гипотезу, нет оснований считать доли разными\n",
      "\n",
      "Событие:  CartScreenAppear\n",
      "p-значения:  0.5786197879539783\n",
      "Не получилось отвергнуть нулевую гипотезу, нет оснований считать доли разными\n",
      "\n",
      "Событие:  PaymentScreenSuccessful\n",
      "p-значения:  0.7373415053803964\n",
      "Не получилось отвергнуть нулевую гипотезу, нет оснований считать доли разными\n",
      "\n"
     ]
    }
   ],
   "source": [
    "z_test('247', '248')\n"
   ]
  },
  {
   "cell_type": "markdown",
   "metadata": {},
   "source": [
    "При сравнении с каждой контрольной группой, видно, что мы не смогли отвергнуть нулевую гипотезу, а значит разлий в показателях нет. Сравню с результатами, если объеденить контрольные группы.\n",
    "\n",
    "---"
   ]
  },
  {
   "cell_type": "code",
   "execution_count": 58,
   "metadata": {},
   "outputs": [],
   "source": [
    "funnel['comb'] = funnel['246'] + funnel['247']"
   ]
  },
  {
   "cell_type": "code",
   "execution_count": 59,
   "metadata": {},
   "outputs": [
    {
     "data": {
      "text/html": [
       "<div>\n",
       "<style scoped>\n",
       "    .dataframe tbody tr th:only-of-type {\n",
       "        vertical-align: middle;\n",
       "    }\n",
       "\n",
       "    .dataframe tbody tr th {\n",
       "        vertical-align: top;\n",
       "    }\n",
       "\n",
       "    .dataframe thead th {\n",
       "        text-align: right;\n",
       "    }\n",
       "</style>\n",
       "<table border=\"1\" class=\"dataframe\">\n",
       "  <thead>\n",
       "    <tr style=\"text-align: right;\">\n",
       "      <th>exp_id</th>\n",
       "      <th>246</th>\n",
       "      <th>247</th>\n",
       "      <th>248</th>\n",
       "      <th>comb</th>\n",
       "    </tr>\n",
       "    <tr>\n",
       "      <th>event_name</th>\n",
       "      <th></th>\n",
       "      <th></th>\n",
       "      <th></th>\n",
       "      <th></th>\n",
       "    </tr>\n",
       "  </thead>\n",
       "  <tbody>\n",
       "    <tr>\n",
       "      <th>MainScreenAppear</th>\n",
       "      <td>2450</td>\n",
       "      <td>2476</td>\n",
       "      <td>2493</td>\n",
       "      <td>4926</td>\n",
       "    </tr>\n",
       "    <tr>\n",
       "      <th>OffersScreenAppear</th>\n",
       "      <td>1542</td>\n",
       "      <td>1520</td>\n",
       "      <td>1531</td>\n",
       "      <td>3062</td>\n",
       "    </tr>\n",
       "    <tr>\n",
       "      <th>CartScreenAppear</th>\n",
       "      <td>1266</td>\n",
       "      <td>1238</td>\n",
       "      <td>1230</td>\n",
       "      <td>2504</td>\n",
       "    </tr>\n",
       "    <tr>\n",
       "      <th>PaymentScreenSuccessful</th>\n",
       "      <td>1200</td>\n",
       "      <td>1158</td>\n",
       "      <td>1181</td>\n",
       "      <td>2358</td>\n",
       "    </tr>\n",
       "    <tr>\n",
       "      <th>Tutorial</th>\n",
       "      <td>278</td>\n",
       "      <td>283</td>\n",
       "      <td>279</td>\n",
       "      <td>561</td>\n",
       "    </tr>\n",
       "  </tbody>\n",
       "</table>\n",
       "</div>"
      ],
      "text/plain": [
       "exp_id                    246   247   248  comb\n",
       "event_name                                     \n",
       "MainScreenAppear         2450  2476  2493  4926\n",
       "OffersScreenAppear       1542  1520  1531  3062\n",
       "CartScreenAppear         1266  1238  1230  2504\n",
       "PaymentScreenSuccessful  1200  1158  1181  2358\n",
       "Tutorial                  278   283   279   561"
      ]
     },
     "execution_count": 59,
     "metadata": {},
     "output_type": "execute_result"
    }
   ],
   "source": [
    "funnel"
   ]
  },
  {
   "cell_type": "code",
   "execution_count": 60,
   "metadata": {},
   "outputs": [
    {
     "data": {
      "text/html": [
       "<div>\n",
       "<style scoped>\n",
       "    .dataframe tbody tr th:only-of-type {\n",
       "        vertical-align: middle;\n",
       "    }\n",
       "\n",
       "    .dataframe tbody tr th {\n",
       "        vertical-align: top;\n",
       "    }\n",
       "\n",
       "    .dataframe thead th {\n",
       "        text-align: right;\n",
       "    }\n",
       "</style>\n",
       "<table border=\"1\" class=\"dataframe\">\n",
       "  <thead>\n",
       "    <tr style=\"text-align: right;\">\n",
       "      <th></th>\n",
       "      <th>number_of_users</th>\n",
       "    </tr>\n",
       "  </thead>\n",
       "  <tbody>\n",
       "    <tr>\n",
       "      <th>246</th>\n",
       "      <td>2484</td>\n",
       "    </tr>\n",
       "    <tr>\n",
       "      <th>247</th>\n",
       "      <td>2513</td>\n",
       "    </tr>\n",
       "    <tr>\n",
       "      <th>248</th>\n",
       "      <td>2537</td>\n",
       "    </tr>\n",
       "  </tbody>\n",
       "</table>\n",
       "</div>"
      ],
      "text/plain": [
       "     number_of_users\n",
       "246             2484\n",
       "247             2513\n",
       "248             2537"
      ]
     },
     "execution_count": 60,
     "metadata": {},
     "output_type": "execute_result"
    }
   ],
   "source": [
    "experiments"
   ]
  },
  {
   "cell_type": "code",
   "execution_count": 61,
   "metadata": {},
   "outputs": [],
   "source": [
    "experiments.loc['comb', 'number_of_users'] = experiments.loc['246', 'number_of_users'] +\\\n",
    "experiments.loc['247', 'number_of_users']"
   ]
  },
  {
   "cell_type": "code",
   "execution_count": 62,
   "metadata": {},
   "outputs": [
    {
     "data": {
      "text/html": [
       "<div>\n",
       "<style scoped>\n",
       "    .dataframe tbody tr th:only-of-type {\n",
       "        vertical-align: middle;\n",
       "    }\n",
       "\n",
       "    .dataframe tbody tr th {\n",
       "        vertical-align: top;\n",
       "    }\n",
       "\n",
       "    .dataframe thead th {\n",
       "        text-align: right;\n",
       "    }\n",
       "</style>\n",
       "<table border=\"1\" class=\"dataframe\">\n",
       "  <thead>\n",
       "    <tr style=\"text-align: right;\">\n",
       "      <th></th>\n",
       "      <th>number_of_users</th>\n",
       "    </tr>\n",
       "  </thead>\n",
       "  <tbody>\n",
       "    <tr>\n",
       "      <th>246</th>\n",
       "      <td>2484.0</td>\n",
       "    </tr>\n",
       "    <tr>\n",
       "      <th>247</th>\n",
       "      <td>2513.0</td>\n",
       "    </tr>\n",
       "    <tr>\n",
       "      <th>248</th>\n",
       "      <td>2537.0</td>\n",
       "    </tr>\n",
       "    <tr>\n",
       "      <th>comb</th>\n",
       "      <td>4997.0</td>\n",
       "    </tr>\n",
       "  </tbody>\n",
       "</table>\n",
       "</div>"
      ],
      "text/plain": [
       "      number_of_users\n",
       "246            2484.0\n",
       "247            2513.0\n",
       "248            2537.0\n",
       "comb           4997.0"
      ]
     },
     "execution_count": 62,
     "metadata": {},
     "output_type": "execute_result"
    }
   ],
   "source": [
    "experiments"
   ]
  },
  {
   "cell_type": "code",
   "execution_count": 63,
   "metadata": {},
   "outputs": [
    {
     "name": "stdout",
     "output_type": "stream",
     "text": [
      "Событие:  Tutorial\n",
      "p-значения:  0.764862472531507\n",
      "Не получилось отвергнуть нулевую гипотезу, нет оснований считать доли разными\n",
      "\n",
      "Событие:  MainScreenAppear\n",
      "p-значения:  0.29424526837179577\n",
      "Не получилось отвергнуть нулевую гипотезу, нет оснований считать доли разными\n",
      "\n",
      "Событие:  OffersScreenAppear\n",
      "p-значения:  0.43425549655188256\n",
      "Не получилось отвергнуть нулевую гипотезу, нет оснований считать доли разными\n",
      "\n",
      "Событие:  CartScreenAppear\n",
      "p-значения:  0.18175875284404386\n",
      "Не получилось отвергнуть нулевую гипотезу, нет оснований считать доли разными\n",
      "\n",
      "Событие:  PaymentScreenSuccessful\n",
      "p-значения:  0.6004294282308704\n",
      "Не получилось отвергнуть нулевую гипотезу, нет оснований считать доли разными\n",
      "\n"
     ]
    }
   ],
   "source": [
    "z_test('comb', '248')\n"
   ]
  },
  {
   "cell_type": "markdown",
   "metadata": {},
   "source": [
    "Можно сделать вывод по анализу, что понять, влияют ли изменения с шрифтами или нет, - нельзя."
   ]
  },
  {
   "cell_type": "markdown",
   "metadata": {},
   "source": [
    "При проверке статистических гипотез выше я выбрала уровень значимости = 0.05"
   ]
  },
  {
   "cell_type": "markdown",
   "metadata": {},
   "source": [
    "Видно, что значение p-value выше 0.1 почти во всех ситуациях. Если мы возьмем такое значение, то в одном из событий между группой 246 и 248 появится статистическая значимость. Но, при таком уровне значимости, каждый десятый раз можно получать ложный результат. В моем случае, именно эта проверка могла оказаться этим 10-ым случаем. Чем выше уровень значимости я возьму, тем больше вероятность возникновения ошибки первого рода. Выше значения 0.1 я не вижу смысла поднимать, так как будет высокая вероятность ошибки первого рода, а ниже 0.05 опускать тоже нет смысла, так как результат будет такой же, какой я получила сейчас. Приняла решение оставить данный уровень статистической значимости."
   ]
  },
  {
   "cell_type": "code",
   "execution_count": 64,
   "metadata": {},
   "outputs": [],
   "source": [
    "users_per_events_246 = group246.groupby('event_name', as_index=False).\\\n",
    "agg({'user_id':'nunique'})\n",
    "users_per_events_246.rename(columns={'user_id':'number_of_users'}, inplace=True)\n",
    "users_per_events_246.drop(index=4, inplace=True)\n",
    "users_per_events_246 = users_per_events_246.sort_values('number_of_users', ascending=False)"
   ]
  },
  {
   "cell_type": "code",
   "execution_count": 65,
   "metadata": {},
   "outputs": [],
   "source": [
    "users_per_events_247 = group247.groupby('event_name', as_index=False).\\\n",
    "agg({'user_id':'nunique'})\n",
    "users_per_events_247.rename(columns={'user_id':'number_of_users'}, inplace=True)\n",
    "users_per_events_247.drop(index=4, inplace=True)\n",
    "users_per_events_247 = users_per_events_247.sort_values('number_of_users', ascending=False)"
   ]
  },
  {
   "cell_type": "code",
   "execution_count": 66,
   "metadata": {},
   "outputs": [],
   "source": [
    "users_per_events_248 = group248.groupby('event_name', as_index=False).\\\n",
    "agg({'user_id':'nunique'})\n",
    "users_per_events_248.rename(columns={'user_id':'number_of_users'}, inplace=True)\n",
    "users_per_events_248.drop(index=4, inplace=True)\n",
    "users_per_events_248 = users_per_events_248.sort_values('number_of_users', ascending=False)"
   ]
  },
  {
   "cell_type": "markdown",
   "metadata": {},
   "source": [
    "**Воронка для группы 246**"
   ]
  },
  {
   "cell_type": "code",
   "execution_count": 83,
   "metadata": {},
   "outputs": [
    {
     "data": {
      "image/png": "[encoded data removed]"
     },
     "metadata": {},
     "output_type": "display_data"
    }
   ],
   "source": [
    "fig = go.Figure(go.Funnel(\n",
    "x=users_per_events_246['number_of_users'],\n",
    "y=users_per_events_246['event_name'],\n",
    "textposition = \"inside\",\n",
    "textinfo = \"value+percent previous\",\n",
    "marker = {\"color\": [\"deepskyblue\", \"lightsalmon\", \"tan\", \"teal\", \"silver\"]}),\\\n",
    "               layout_title_text=\"Воронка событий для группы 246\")\n",
    "fig.update_traces(hovertemplate='of total: %{percentInitial}<br>'+\\\n",
    "                  'of previous: %{percentPrevious}')\n",
    "\n",
    "fig.show('png')"
   ]
  },
  {
   "cell_type": "markdown",
   "metadata": {},
   "source": [
    "**Воронка для группы 247**"
   ]
  },
  {
   "cell_type": "code",
   "execution_count": 81,
   "metadata": {},
   "outputs": [
    {
     "data": {
      "image/png": "[encoded data removed]"
     },
     "metadata": {},
     "output_type": "display_data"
    }
   ],
   "source": [
    "fig = go.Figure(go.Funnel(\n",
    "x=users_per_events_247['number_of_users'],\n",
    "y=users_per_events_247['event_name'],\n",
    "textposition = \"inside\",\n",
    "textinfo = \"value+percent previous\",\n",
    "marker = {\"color\": [\"deepskyblue\", \"lightsalmon\", \"tan\", \"teal\", \"silver\"]}),\\\n",
    "               layout_title_text=\"Воронка событий для группы 247\")\n",
    "fig.update_traces(hovertemplate='of total: %{percentInitial}<br>'+\\\n",
    "                  'of previous: %{percentPrevious}')\n",
    "fig.show('png')"
   ]
  },
  {
   "cell_type": "markdown",
   "metadata": {},
   "source": [
    "**Воронка для группы 248**"
   ]
  },
  {
   "cell_type": "code",
   "execution_count": 82,
   "metadata": {},
   "outputs": [
    {
     "data": {
      "image/png": "[encoded data removed]"
     },
     "metadata": {},
     "output_type": "display_data"
    }
   ],
   "source": [
    "fig = go.Figure(go.Funnel(\n",
    "x=users_per_events_248['number_of_users'],\n",
    "y=users_per_events_248['event_name'],\n",
    "textposition = \"inside\",\n",
    "textinfo = \"value+percent previous\",\n",
    "marker = {\"color\": [\"deepskyblue\", \"lightsalmon\", \"tan\", \"teal\", \"silver\"]}),\\\n",
    "               layout_title_text=\"Воронка событий для группы 248\")\n",
    "fig.update_traces(hovertemplate='of total: %{percentInitial}<br>'+\\\n",
    "                  'of previous: %{percentPrevious}')\n",
    "fig.show('png')"
   ]
  },
  {
   "cell_type": "markdown",
   "metadata": {},
   "source": [
    "В последней группе до оплаты дошли 47,4% пользователей от первоначального числа, в 246 и 247 группе эта цифра была меньше(49% и 46,8% соответственно). Так как наши тесты получились статистически незначимыми, то утверждать, что данный процесс произошел из-за того, что был изменен шрифт - нельзя."
   ]
  },
  {
   "cell_type": "markdown",
   "metadata": {},
   "source": [
    "При переходе с первого на второе событие было отсеяно (37,1%,38,6%,38,6%) по каждой из групп(246,247,248) соответственно. Но в первой и второй группе был один шрифт. Но, можно заметить, что в экспериментальной группе меньше людей добавили продукт в корзину и продолжили покупки на 1% процент."
   ]
  },
  {
   "cell_type": "markdown",
   "metadata": {},
   "source": [
    "<a id='conclusion'></a>\n",
    "### Шаг 6. Вывод"
   ]
  },
  {
   "cell_type": "markdown",
   "metadata": {},
   "source": [
    "В ходе работы была проведена предобработка данных, исследованы пропуски и дубликаты."
   ]
  },
  {
   "cell_type": "markdown",
   "metadata": {},
   "source": [
    "Изменены типы на подходящие для удобной работы и исследования."
   ]
  },
  {
   "cell_type": "markdown",
   "metadata": {},
   "source": [
    "Также были добавленны новые столбцы в датафрейм, для получения более детальной информации по дате и времени."
   ]
  },
  {
   "cell_type": "markdown",
   "metadata": {},
   "source": [
    "Было изучено количество пользователей и событий в логе, количество пользователей в каждом событии."
   ]
  },
  {
   "cell_type": "markdown",
   "metadata": {},
   "source": [
    "Чаще всего на одного пользователя приходится 5 событий."
   ]
  },
  {
   "cell_type": "markdown",
   "metadata": {},
   "source": [
    "Также срезала данные до  2019-08-01 , так как их значение очень мало, вполне возможно это данные, пришедшие из дней, до начала теста"
   ]
  },
  {
   "cell_type": "markdown",
   "metadata": {},
   "source": [
    "Исследовав количество пользователей на каждом событии и отсортировав из по количеству, было решено, что последовательность событий будет такая:\n",
    "* Событие 1 - MainScreenAppear - пользователь заходит на главную страницу;\n",
    "* Событие 2 - OffersScreenAppear - пользователь выбирает продукты на странице продуктов;\n",
    "* Событие 3 - CartScreenAppear - пользователь добавляет продукты в корзину;\n",
    "* Событие 4 - PaymentScreenSuccessful - пользователь производит оплату;"
   ]
  },
  {
   "cell_type": "markdown",
   "metadata": {},
   "source": [
    "Изучив воронку, выяснила, что больше всего пользователей (39%) теряется на первом шаге, что может говорить о том, что главная страница недостаточно презентабельна и наглядна, пользователю могло не понравится (шрифты, картинки, расположение на странице и тд.)"
   ]
  },
  {
   "cell_type": "markdown",
   "metadata": {},
   "source": [
    "18% людей уходят после просмотра страницы с товарами, это может говорить о том, что они не нашли нужный им товар, или ценовая политика данного сервиса не устраивает пользователя. Но, в общем, 47% пользователей доходят до покупки товара, что является хорошим показателем."
   ]
  },
  {
   "cell_type": "markdown",
   "metadata": {},
   "source": [
    "После анализа результатов эксперимента, сделала выводы:\n",
    "* Различий между контрольными группами нет, значит тесты прошли успешно\n",
    "* Статистической значимости между контрольными и экспериментальной группы нет,что может говорить о том, что сделать вывод влияет ли шрифт на поведение пользователя в сервисе или нет, - сложно.\n",
    "* После построения воронок для каждой группы, было решено, что тест стоит прекратить, так как вероятность влияния шрифта на поведение пользователя очень мала."
   ]
  },
  {
   "cell_type": "code",
   "execution_count": null,
   "metadata": {},
   "outputs": [],
   "source": []
  }
 ],
 "metadata": {
  "kernelspec": {
   "display_name": "Python 3",
   "language": "python",
   "name": "python3"
  },
  "language_info": {
   "codemirror_mode": {
    "name": "ipython",
    "version": 3
   },
   "file_extension": ".py",
   "mimetype": "text/x-python",
   "name": "python",
   "nbconvert_exporter": "python",
   "pygments_lexer": "ipython3",
   "version": "3.8.5"
  }
 },
 "nbformat": 4,
 "nbformat_minor": 4
}
